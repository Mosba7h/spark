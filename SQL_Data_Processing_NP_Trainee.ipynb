{
  "cells": [
    {
      "cell_type": "markdown",
      "id": "85669f91",
      "metadata": {
        "id": "85669f91"
      },
      "source": [
        "### Create SparkSession:"
      ]
    },
    {
      "source": [
        "!pip install pyspark"
      ],
      "cell_type": "code",
      "metadata": {
        "id": "XWfWhTFol8qd",
        "outputId": "cc83bad7-038d-4e68-d91b-9f52686b2541",
        "colab": {
          "base_uri": "https://localhost:8080/"
        }
      },
      "id": "XWfWhTFol8qd",
      "execution_count": 2,
      "outputs": [
        {
          "output_type": "stream",
          "name": "stdout",
          "text": [
            "Collecting pyspark\n",
            "  Downloading pyspark-3.5.1.tar.gz (317.0 MB)\n",
            "\u001b[2K     \u001b[90m━━━━━━━━━━━━━━━━━━━━━━━━━━━━━━━━━━━━━━━━\u001b[0m \u001b[32m317.0/317.0 MB\u001b[0m \u001b[31m2.7 MB/s\u001b[0m eta \u001b[36m0:00:00\u001b[0m\n",
            "\u001b[?25h  Preparing metadata (setup.py) ... \u001b[?25l\u001b[?25hdone\n",
            "Requirement already satisfied: py4j==0.10.9.7 in /usr/local/lib/python3.10/dist-packages (from pyspark) (0.10.9.7)\n",
            "Building wheels for collected packages: pyspark\n",
            "  Building wheel for pyspark (setup.py) ... \u001b[?25l\u001b[?25hdone\n",
            "  Created wheel for pyspark: filename=pyspark-3.5.1-py2.py3-none-any.whl size=317488491 sha256=5261d378de9c556f9799725e4c57dfd5458487a23007dd6f4175d715b7795275\n",
            "  Stored in directory: /root/.cache/pip/wheels/80/1d/60/2c256ed38dddce2fdd93be545214a63e02fbd8d74fb0b7f3a6\n",
            "Successfully built pyspark\n",
            "Installing collected packages: pyspark\n",
            "Successfully installed pyspark-3.5.1\n"
          ]
        }
      ]
    },
    {
      "cell_type": "code",
      "execution_count": 3,
      "id": "410014d6",
      "metadata": {
        "id": "410014d6"
      },
      "outputs": [],
      "source": [
        "from pyspark.sql import SparkSession\n",
        "\n",
        "spark = SparkSession.builder.appName(\"DataFrameSample\").getOrCreate()\n"
      ]
    },
    {
      "cell_type": "markdown",
      "id": "e0882328",
      "metadata": {
        "id": "e0882328"
      },
      "source": [
        "### Read the DataFrames_sample.json file:"
      ]
    },
    {
      "cell_type": "code",
      "execution_count": 4,
      "id": "61c8b969",
      "metadata": {
        "id": "61c8b969"
      },
      "outputs": [],
      "source": [
        "df_sample = spark.read.json('DataFrames_sample.json')\n"
      ]
    },
    {
      "cell_type": "markdown",
      "id": "ba09cf4d",
      "metadata": {
        "id": "ba09cf4d"
      },
      "source": [
        "### Display part of the data and schema:\n"
      ]
    },
    {
      "cell_type": "code",
      "source": [
        "df_sample.show(4)"
      ],
      "metadata": {
        "id": "P1o_QSycmF3W",
        "outputId": "7b5c0972-fffe-4963-cbc8-21e8ce5a73a4",
        "colab": {
          "base_uri": "https://localhost:8080/"
        }
      },
      "id": "P1o_QSycmF3W",
      "execution_count": 5,
      "outputs": [
        {
          "output_type": "stream",
          "name": "stdout",
          "text": [
            "+----+----+---------+---+-----------+----+----------+-----+------+----+\n",
            "|   D|   H|      HDD| Id|      Model| RAM|ScreenSize|    W|Weight|Year|\n",
            "+----+----+---------+---+-----------+----+----------+-----+------+----+\n",
            "|9.48|0.61|512GB SSD|  1|MacBook Pro|16GB|       15\"|13.75|  4.02|2015|\n",
            "|7.74|0.52|256GB SSD|  2|    MacBook| 8GB|       12\"|11.04|  2.03|2016|\n",
            "|8.94|0.68|128GB SSD|  3|MacBook Air| 8GB|     13.3\"| 12.8|  2.96|2016|\n",
            "| 8.0|20.3|  1TB SSD|  4|       iMac|64GB|       27\"| 25.6|  20.8|2017|\n",
            "+----+----+---------+---+-----------+----+----------+-----+------+----+\n",
            "\n"
          ]
        }
      ]
    },
    {
      "cell_type": "code",
      "execution_count": null,
      "id": "c7f95eeb",
      "metadata": {
        "colab": {
          "base_uri": "https://localhost:8080/"
        },
        "id": "c7f95eeb",
        "outputId": "288bd9cb-b7ae-446d-fbb9-9e58f331022b"
      },
      "outputs": [
        {
          "name": "stderr",
          "output_type": "stream",
          "text": [
            "                                                                                \r"
          ]
        },
        {
          "name": "stdout",
          "output_type": "stream",
          "text": [
            "+----+----+---------+---+-----------+----+----------+-----+------+----+\n",
            "|   D|   H|      HDD| Id|      Model| RAM|ScreenSize|    W|Weight|Year|\n",
            "+----+----+---------+---+-----------+----+----------+-----+------+----+\n",
            "|9.48|0.61|512GB SSD|  1|MacBook Pro|16GB|       15\"|13.75|  4.02|2015|\n",
            "|7.74|0.52|256GB SSD|  2|    MacBook| 8GB|       12\"|11.04|  2.03|2016|\n",
            "|8.94|0.68|128GB SSD|  3|MacBook Air| 8GB|     13.3\"| 12.8|  2.96|2016|\n",
            "| 8.0|20.3|  1TB SSD|  4|       iMac|64GB|       27\"| 25.6|  20.8|2017|\n",
            "+----+----+---------+---+-----------+----+----------+-----+------+----+\n",
            "\n"
          ]
        }
      ],
      "source": []
    },
    {
      "cell_type": "code",
      "source": [
        "df_sample.printSchema()"
      ],
      "metadata": {
        "id": "eFCqHQdkmKST",
        "outputId": "22896356-d9b9-45e5-a2b8-991c2b897646",
        "colab": {
          "base_uri": "https://localhost:8080/"
        }
      },
      "id": "eFCqHQdkmKST",
      "execution_count": 6,
      "outputs": [
        {
          "output_type": "stream",
          "name": "stdout",
          "text": [
            "root\n",
            " |-- D: double (nullable = true)\n",
            " |-- H: double (nullable = true)\n",
            " |-- HDD: string (nullable = true)\n",
            " |-- Id: long (nullable = true)\n",
            " |-- Model: string (nullable = true)\n",
            " |-- RAM: string (nullable = true)\n",
            " |-- ScreenSize: string (nullable = true)\n",
            " |-- W: double (nullable = true)\n",
            " |-- Weight: double (nullable = true)\n",
            " |-- Year: long (nullable = true)\n",
            "\n"
          ]
        }
      ]
    },
    {
      "cell_type": "code",
      "execution_count": null,
      "id": "a478fec5",
      "metadata": {
        "colab": {
          "base_uri": "https://localhost:8080/"
        },
        "id": "a478fec5",
        "outputId": "4bf08b91-4c8f-48c9-b05a-055bc140e8fb"
      },
      "outputs": [
        {
          "name": "stdout",
          "output_type": "stream",
          "text": [
            "root\n",
            " |-- D: double (nullable = true)\n",
            " |-- H: double (nullable = true)\n",
            " |-- HDD: string (nullable = true)\n",
            " |-- Id: long (nullable = true)\n",
            " |-- Model: string (nullable = true)\n",
            " |-- RAM: string (nullable = true)\n",
            " |-- ScreenSize: string (nullable = true)\n",
            " |-- W: double (nullable = true)\n",
            " |-- Weight: double (nullable = true)\n",
            " |-- Year: long (nullable = true)\n",
            "\n"
          ]
        }
      ],
      "source": []
    },
    {
      "cell_type": "markdown",
      "id": "981f5434",
      "metadata": {
        "id": "981f5434"
      },
      "source": [
        "## Using SQL\n",
        "### Create Temp View:"
      ]
    },
    {
      "cell_type": "code",
      "source": [
        "df_sample.createOrReplaceTempView(\"temp_view\")"
      ],
      "metadata": {
        "id": "tHnvK9wumO3T"
      },
      "id": "tHnvK9wumO3T",
      "execution_count": 7,
      "outputs": []
    },
    {
      "cell_type": "code",
      "execution_count": null,
      "id": "1c868466",
      "metadata": {
        "id": "1c868466"
      },
      "outputs": [],
      "source": []
    },
    {
      "cell_type": "markdown",
      "id": "c7604e3c",
      "metadata": {
        "id": "c7604e3c"
      },
      "source": [
        "### Display \"RAM\"column and count \"RAM\" column:"
      ]
    },
    {
      "cell_type": "code",
      "source": [
        "spark.sql(\"SELECT RAM, COUNT(RAM) AS c FROM temp_view GROUP BY RAM\").show()"
      ],
      "metadata": {
        "id": "v4KN3xHhmXtk",
        "outputId": "7d038285-6ed9-44dd-9f17-653a44e02229",
        "colab": {
          "base_uri": "https://localhost:8080/"
        }
      },
      "id": "v4KN3xHhmXtk",
      "execution_count": 9,
      "outputs": [
        {
          "output_type": "stream",
          "name": "stdout",
          "text": [
            "+----+---+\n",
            "| RAM|  c|\n",
            "+----+---+\n",
            "|64GB|  1|\n",
            "|16GB|  1|\n",
            "| 8GB|  2|\n",
            "+----+---+\n",
            "\n"
          ]
        }
      ]
    },
    {
      "cell_type": "code",
      "execution_count": null,
      "id": "2746a04b",
      "metadata": {
        "colab": {
          "base_uri": "https://localhost:8080/"
        },
        "id": "2746a04b",
        "outputId": "9bb42faf-6565-40c7-dd49-5efa5984f71f"
      },
      "outputs": [
        {
          "name": "stderr",
          "output_type": "stream",
          "text": [
            "[Stage 4:>                                                          (0 + 1) / 1]\r"
          ]
        },
        {
          "name": "stdout",
          "output_type": "stream",
          "text": [
            "+----+---+\n",
            "| RAM|  c|\n",
            "+----+---+\n",
            "|64GB|  1|\n",
            "|16GB|  1|\n",
            "| 8GB|  2|\n",
            "+----+---+\n",
            "\n"
          ]
        },
        {
          "name": "stderr",
          "output_type": "stream",
          "text": [
            "\r",
            "                                                                                \r"
          ]
        }
      ],
      "source": []
    },
    {
      "cell_type": "markdown",
      "id": "35410e83",
      "metadata": {
        "id": "35410e83"
      },
      "source": [
        "### Get all columns when \"Year\" column equal \"2015\"  "
      ]
    },
    {
      "cell_type": "code",
      "source": [
        "df_sample.filter(df_sample[\"Year\"] == 2015).show()"
      ],
      "metadata": {
        "id": "XZQHGlO-mjVE",
        "outputId": "9afbe675-5bc2-4562-f241-3e63e8b21845",
        "colab": {
          "base_uri": "https://localhost:8080/"
        }
      },
      "id": "XZQHGlO-mjVE",
      "execution_count": 10,
      "outputs": [
        {
          "output_type": "stream",
          "name": "stdout",
          "text": [
            "+----+----+---------+---+-----------+----+----------+-----+------+----+\n",
            "|   D|   H|      HDD| Id|      Model| RAM|ScreenSize|    W|Weight|Year|\n",
            "+----+----+---------+---+-----------+----+----------+-----+------+----+\n",
            "|9.48|0.61|512GB SSD|  1|MacBook Pro|16GB|       15\"|13.75|  4.02|2015|\n",
            "+----+----+---------+---+-----------+----+----------+-----+------+----+\n",
            "\n"
          ]
        }
      ]
    },
    {
      "cell_type": "code",
      "execution_count": null,
      "id": "8b44a363",
      "metadata": {
        "colab": {
          "base_uri": "https://localhost:8080/"
        },
        "id": "8b44a363",
        "outputId": "66d7fc83-d37c-4900-c65a-4ccdcc3ad766"
      },
      "outputs": [
        {
          "name": "stdout",
          "output_type": "stream",
          "text": [
            "+----+----+---------+---+-----------+----+----------+-----+------+----+\n",
            "|   D|   H|      HDD| Id|      Model| RAM|ScreenSize|    W|Weight|Year|\n",
            "+----+----+---------+---+-----------+----+----------+-----+------+----+\n",
            "|9.48|0.61|512GB SSD|  1|MacBook Pro|16GB|       15\"|13.75|  4.02|2015|\n",
            "+----+----+---------+---+-----------+----+----------+-----+------+----+\n",
            "\n"
          ]
        }
      ],
      "source": []
    },
    {
      "cell_type": "markdown",
      "id": "69e0a655",
      "metadata": {
        "id": "69e0a655"
      },
      "source": [
        "### Get all when \"Model\" start with \"M\":"
      ]
    },
    {
      "cell_type": "code",
      "source": [
        "df_sample.filter(df_sample[\"Model\"].startswith(\"M\")).select(\"Model\").show()"
      ],
      "metadata": {
        "id": "cAxPtJSymzLv",
        "outputId": "38dee884-5804-41dd-833a-75656fe0c4bf",
        "colab": {
          "base_uri": "https://localhost:8080/"
        }
      },
      "id": "cAxPtJSymzLv",
      "execution_count": 18,
      "outputs": [
        {
          "output_type": "stream",
          "name": "stdout",
          "text": [
            "+-----------+\n",
            "|      Model|\n",
            "+-----------+\n",
            "|MacBook Pro|\n",
            "|    MacBook|\n",
            "|MacBook Air|\n",
            "+-----------+\n",
            "\n"
          ]
        }
      ]
    },
    {
      "cell_type": "code",
      "execution_count": null,
      "id": "fc413c67",
      "metadata": {
        "colab": {
          "base_uri": "https://localhost:8080/"
        },
        "id": "fc413c67",
        "outputId": "65756073-5d2e-4fd5-d4a2-17f2a04a255b"
      },
      "outputs": [
        {
          "name": "stderr",
          "output_type": "stream",
          "text": [
            "\r",
            "[Stage 6:>                                                          (0 + 1) / 1]\r",
            "\r",
            "                                                                                \r"
          ]
        },
        {
          "name": "stdout",
          "output_type": "stream",
          "text": [
            "+-----------+\n",
            "|      Model|\n",
            "+-----------+\n",
            "|MacBook Pro|\n",
            "|    MacBook|\n",
            "|MacBook Air|\n",
            "+-----------+\n",
            "\n"
          ]
        }
      ],
      "source": []
    },
    {
      "cell_type": "markdown",
      "id": "437d72ca",
      "metadata": {
        "id": "437d72ca"
      },
      "source": [
        "### Get all data when \"Model\" column equal \"MacBook Pro\""
      ]
    },
    {
      "cell_type": "code",
      "source": [
        "df_sample.filter(df_sample[\"Model\"] == \"MacBook Pro\").show()\n"
      ],
      "metadata": {
        "id": "gDHG05ygmqUE",
        "outputId": "663846bf-953b-4d1c-ae89-fd94805a05a1",
        "colab": {
          "base_uri": "https://localhost:8080/"
        }
      },
      "id": "gDHG05ygmqUE",
      "execution_count": 13,
      "outputs": [
        {
          "output_type": "stream",
          "name": "stdout",
          "text": [
            "+----+----+---------+---+-----------+----+----------+-----+------+----+\n",
            "|   D|   H|      HDD| Id|      Model| RAM|ScreenSize|    W|Weight|Year|\n",
            "+----+----+---------+---+-----------+----+----------+-----+------+----+\n",
            "|9.48|0.61|512GB SSD|  1|MacBook Pro|16GB|       15\"|13.75|  4.02|2015|\n",
            "+----+----+---------+---+-----------+----+----------+-----+------+----+\n",
            "\n"
          ]
        }
      ]
    },
    {
      "cell_type": "code",
      "execution_count": null,
      "id": "1bee7165",
      "metadata": {
        "colab": {
          "base_uri": "https://localhost:8080/"
        },
        "id": "1bee7165",
        "outputId": "d5ab6668-697b-4a89-b80f-fb993e616b83"
      },
      "outputs": [
        {
          "name": "stdout",
          "output_type": "stream",
          "text": [
            "+----+----+---------+---+-----------+----+----------+-----+------+----+\n",
            "|   D|   H|      HDD| Id|      Model| RAM|ScreenSize|    W|Weight|Year|\n",
            "+----+----+---------+---+-----------+----+----------+-----+------+----+\n",
            "|9.48|0.61|512GB SSD|  1|MacBook Pro|16GB|       15\"|13.75|  4.02|2015|\n",
            "+----+----+---------+---+-----------+----+----------+-----+------+----+\n",
            "\n"
          ]
        },
        {
          "name": "stderr",
          "output_type": "stream",
          "text": [
            "\r",
            "[Stage 7:>                                                          (0 + 1) / 1]\r",
            "\r",
            "                                                                                \r"
          ]
        }
      ],
      "source": []
    },
    {
      "cell_type": "markdown",
      "id": "be87a7b7",
      "metadata": {
        "id": "be87a7b7"
      },
      "source": [
        "### Get all data with Multiple Conditions when \"RAM\" column equal \"8GB\" and \"Model\" column is \"Macbook\"."
      ]
    },
    {
      "cell_type": "code",
      "source": [
        "df_sample.filter((df_sample[\"RAM\"] == \"8GB\") & (df_sample[\"Model\"] == \"MacBook\")).show()\n"
      ],
      "metadata": {
        "id": "NWnURDjMnL9Z",
        "outputId": "e66a3591-a6dc-4f4d-c1cb-02b1ee7b05c5",
        "colab": {
          "base_uri": "https://localhost:8080/"
        }
      },
      "id": "NWnURDjMnL9Z",
      "execution_count": 16,
      "outputs": [
        {
          "output_type": "stream",
          "name": "stdout",
          "text": [
            "+----+----+---------+---+-------+---+----------+-----+------+----+\n",
            "|   D|   H|      HDD| Id|  Model|RAM|ScreenSize|    W|Weight|Year|\n",
            "+----+----+---------+---+-------+---+----------+-----+------+----+\n",
            "|7.74|0.52|256GB SSD|  2|MacBook|8GB|       12\"|11.04|  2.03|2016|\n",
            "+----+----+---------+---+-------+---+----------+-----+------+----+\n",
            "\n"
          ]
        }
      ]
    },
    {
      "cell_type": "code",
      "execution_count": null,
      "id": "1b655003",
      "metadata": {
        "colab": {
          "base_uri": "https://localhost:8080/"
        },
        "id": "1b655003",
        "outputId": "79c03232-08b1-4197-c2e5-d6229385b492"
      },
      "outputs": [
        {
          "name": "stdout",
          "output_type": "stream",
          "text": [
            "+----+----+---------+---+-------+---+----------+-----+------+----+\n",
            "|   D|   H|      HDD| Id|  Model|RAM|ScreenSize|    W|Weight|Year|\n",
            "+----+----+---------+---+-------+---+----------+-----+------+----+\n",
            "|7.74|0.52|256GB SSD|  2|MacBook|8GB|       12\"|11.04|  2.03|2016|\n",
            "+----+----+---------+---+-------+---+----------+-----+------+----+\n",
            "\n"
          ]
        }
      ],
      "source": []
    },
    {
      "cell_type": "markdown",
      "id": "2f730cee",
      "metadata": {
        "id": "2f730cee"
      },
      "source": [
        "### Get all data with Multiple Conditions when \"D\" greater than or equal \"8\" and \"Model\" column is \"iMac\"."
      ]
    },
    {
      "cell_type": "code",
      "source": [
        "df_sample.filter((df_sample[\"D\"] >= 8) & (df_sample[\"Model\"] == \"iMac\")).show()"
      ],
      "metadata": {
        "id": "kfhTc3QbnPDM",
        "outputId": "2e4051fa-c6cd-4693-a439-490fd847dca8",
        "colab": {
          "base_uri": "https://localhost:8080/"
        }
      },
      "id": "kfhTc3QbnPDM",
      "execution_count": 17,
      "outputs": [
        {
          "output_type": "stream",
          "name": "stdout",
          "text": [
            "+---+----+-------+---+-----+----+----------+----+------+----+\n",
            "|  D|   H|    HDD| Id|Model| RAM|ScreenSize|   W|Weight|Year|\n",
            "+---+----+-------+---+-----+----+----------+----+------+----+\n",
            "|8.0|20.3|1TB SSD|  4| iMac|64GB|       27\"|25.6|  20.8|2017|\n",
            "+---+----+-------+---+-----+----+----------+----+------+----+\n",
            "\n"
          ]
        }
      ]
    },
    {
      "cell_type": "code",
      "execution_count": null,
      "id": "2760efa7",
      "metadata": {
        "colab": {
          "base_uri": "https://localhost:8080/"
        },
        "id": "2760efa7",
        "outputId": "2dce2729-ed0f-4576-82c6-f81377f6cd21"
      },
      "outputs": [
        {
          "name": "stdout",
          "output_type": "stream",
          "text": [
            "+---+----+-------+---+-----+----+----------+----+------+----+\n",
            "|  D|   H|    HDD| Id|Model| RAM|ScreenSize|   W|Weight|Year|\n",
            "+---+----+-------+---+-----+----+----------+----+------+----+\n",
            "|8.0|20.3|1TB SSD|  4| iMac|64GB|       27\"|25.6|  20.8|2017|\n",
            "+---+----+-------+---+-----+----+----------+----+------+----+\n",
            "\n"
          ]
        },
        {
          "name": "stderr",
          "output_type": "stream",
          "text": [
            "\r",
            "[Stage 9:>                                                          (0 + 1) / 1]\r",
            "\r",
            "                                                                                \r"
          ]
        }
      ],
      "source": []
    },
    {
      "cell_type": "code",
      "execution_count": null,
      "id": "8ba97c06",
      "metadata": {
        "id": "8ba97c06"
      },
      "outputs": [],
      "source": []
    }
  ],
  "metadata": {
    "kernelspec": {
      "display_name": "Python 3 (ipykernel)",
      "language": "python",
      "name": "python3"
    },
    "language_info": {
      "codemirror_mode": {
        "name": "ipython",
        "version": 3
      },
      "file_extension": ".py",
      "mimetype": "text/x-python",
      "name": "python",
      "nbconvert_exporter": "python",
      "pygments_lexer": "ipython3",
      "version": "3.9.13"
    },
    "colab": {
      "provenance": []
    }
  },
  "nbformat": 4,
  "nbformat_minor": 5
}